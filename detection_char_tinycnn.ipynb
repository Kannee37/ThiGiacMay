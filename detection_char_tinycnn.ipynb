{
  "nbformat": 4,
  "nbformat_minor": 0,
  "metadata": {
    "colab": {
      "provenance": [],
      "toc_visible": true
    },
    "kernelspec": {
      "name": "python3",
      "display_name": "Python 3"
    },
    "language_info": {
      "name": "python"
    }
  },
  "cells": [
    {
      "cell_type": "code",
      "execution_count": 1,
      "metadata": {
        "colab": {
          "base_uri": "https://localhost:8080/"
        },
        "id": "jzccq1GFIzi-",
        "outputId": "b11c425a-a3f7-42c4-8842-4fae16fa474a"
      },
      "outputs": [
        {
          "output_type": "stream",
          "name": "stdout",
          "text": [
            "Mounted at /content/drive\n"
          ]
        }
      ],
      "source": [
        "from google.colab import drive\n",
        "drive.mount('/content/drive')"
      ]
    },
    {
      "cell_type": "code",
      "source": [
        "import os\n",
        "import cv2\n",
        "import numpy as np\n",
        "import tensorflow as tf\n",
        "from tensorflow.keras import layers, models\n",
        "from tensorflow.keras.preprocessing.image import ImageDataGenerator\n",
        "from google.colab.patches import cv2_imshow\n",
        "import torchvision.models as models\n",
        "import torch.nn as nn\n",
        "import torch\n",
        "import numpy as np\n",
        "import matplotlib.pyplot as plt"
      ],
      "metadata": {
        "id": "tAARIBJgKaqc"
      },
      "execution_count": 2,
      "outputs": []
    },
    {
      "cell_type": "code",
      "source": [
        "data_dir = \"/content/drive/MyDrive/ThiGiacMay/btl/char_bien_so\""
      ],
      "metadata": {
        "id": "Pspqt8K5JEu4"
      },
      "execution_count": 3,
      "outputs": []
    },
    {
      "cell_type": "code",
      "source": [
        "# Hàm tiền xử lý ảnh: đổi ảnh thành grayscale và chuẩn hóa\n",
        "def preprocess_image(image_path):\n",
        "    img = cv2.imread(image_path, cv2.IMREAD_GRAYSCALE)\n",
        "    img = cv2.resize(img, (32, 32))  # Đổi kích thước ảnh\n",
        "    img = img / 255.0  # Chuẩn hóa giá trị pixel\n",
        "    if len(img.shape) == 2:  # Nếu ảnh là 2 chiều (height, width)\n",
        "        img = np.expand_dims(img, axis=0)\n",
        "    return img"
      ],
      "metadata": {
        "id": "zq4YlTGlKc70"
      },
      "execution_count": 4,
      "outputs": []
    },
    {
      "cell_type": "code",
      "source": [
        "img_path = \"/content/drive/MyDrive/ThiGiacMay/btl/char_bien_so/0/1345_2.jpg\"\n",
        "img_test = cv2.imread(\"/content/drive/MyDrive/ThiGiacMay/btl/char_bien_so/0/1345_2.jpg\")\n",
        "cv2_imshow(img_test)"
      ],
      "metadata": {
        "colab": {
          "base_uri": "https://localhost:8080/",
          "height": 45
        },
        "id": "6daH-XEeKjKs",
        "outputId": "a035e317-1885-4c7f-da3c-79811e81fc32"
      },
      "execution_count": 5,
      "outputs": [
        {
          "output_type": "display_data",
          "data": {
            "text/plain": [
              "<PIL.Image.Image image mode=RGB size=12x28>"
            ],
            "image/png": "[encoded data removed]",
            "image/jpeg": "[encoded data removed]"
          },
          "metadata": {}
        }
      ]
    },
    {
      "cell_type": "code",
      "source": [
        "img_test.shape"
      ],
      "metadata": {
        "colab": {
          "base_uri": "https://localhost:8080/"
        },
        "id": "MS7N4ZWGKkqD",
        "outputId": "b22ba4f0-b341-4b96-df82-9a6575b1d454"
      },
      "execution_count": 6,
      "outputs": [
        {
          "output_type": "execute_result",
          "data": {
            "text/plain": [
              "(28, 12, 3)"
            ]
          },
          "metadata": {},
          "execution_count": 6
        }
      ]
    },
    {
      "cell_type": "code",
      "source": [
        "x = preprocess_image(img_path)\n",
        "cv2_imshow(x.squeeze(0))\n",
        "print(np.array(x))"
      ],
      "metadata": {
        "colab": {
          "base_uri": "https://localhost:8080/",
          "height": 170
        },
        "id": "oLZlQ9ssSRew",
        "outputId": "5006e2d4-217c-4819-cc56-80e0e1116ce6"
      },
      "execution_count": 7,
      "outputs": [
        {
          "output_type": "display_data",
          "data": {
            "text/plain": [
              "<PIL.Image.Image image mode=L size=32x32>"
            ],
            "image/png": "[encoded data removed]",
            "image/jpeg": "[encoded data removed]"
          },
          "metadata": {}
        },
        {
          "output_type": "stream",
          "name": "stdout",
          "text": [
            "[[[0.00392157 0.01568627 0.08627451 ... 0.00392157 0.00784314 0.00784314]\n",
            "  [0.1254902  0.13333333 0.19215686 ... 0.         0.         0.        ]\n",
            "  [0.14117647 0.15294118 0.21176471 ... 0.00392157 0.00392157 0.00392157]\n",
            "  ...\n",
            "  [0.00392157 0.00392157 0.         ... 0.2745098  0.25098039 0.24705882]\n",
            "  [0.         0.         0.         ... 0.19215686 0.14509804 0.1372549 ]\n",
            "  [0.         0.         0.00784314 ... 0.05098039 0.00784314 0.        ]]]\n"
          ]
        }
      ]
    },
    {
      "cell_type": "code",
      "source": [
        "x.shape"
      ],
      "metadata": {
        "colab": {
          "base_uri": "https://localhost:8080/"
        },
        "id": "HJI7fqJ4SzrM",
        "outputId": "2442a0b8-2535-4a2b-a770-ef20960f74cf"
      },
      "execution_count": 8,
      "outputs": [
        {
          "output_type": "execute_result",
          "data": {
            "text/plain": [
              "(1, 32, 32)"
            ]
          },
          "metadata": {},
          "execution_count": 8
        }
      ]
    },
    {
      "cell_type": "code",
      "source": [
        "# Hàm chuẩn bị dữ liệu\n",
        "def prepare_data(data_dir):\n",
        "    images = []\n",
        "    labels = []\n",
        "    label_dict = {}  # Lưu nhãn tương ứng với các thư mục\n",
        "    label_id = 0  # Khởi tạo nhãn bắt đầu từ 0\n",
        "\n",
        "    # Đọc ảnh từ các thư mục trong bộ dữ liệu\n",
        "    for folder in sorted(os.listdir(data_dir)):\n",
        "        folder_path = os.path.join(data_dir, folder)\n",
        "        if os.path.isdir(folder_path):\n",
        "            label_dict[label_id] = folder  # Gán nhãn cho từng thư mục\n",
        "            for image_name in os.listdir(folder_path):\n",
        "                image_path = os.path.join(folder_path, image_name)\n",
        "                img = preprocess_image(image_path)\n",
        "                images.append(img)\n",
        "                labels.append(label_id)\n",
        "            label_id += 1  # Tăng nhãn cho thư mục tiếp theo\n",
        "\n",
        "    # Chuyển danh sách ảnh và nhãn thành numpy arrays\n",
        "    images = np.array(images)\n",
        "    labels = np.array(labels)\n",
        "    return images, labels, label_dict"
      ],
      "metadata": {
        "id": "bEWUlG-yTUUg"
      },
      "execution_count": 9,
      "outputs": []
    },
    {
      "cell_type": "code",
      "source": [
        "# Chuẩn bị dữ liệu\n",
        "images, labels, label_dict = prepare_data(data_dir)"
      ],
      "metadata": {
        "id": "SDKGi0UcUlXH"
      },
      "execution_count": 10,
      "outputs": []
    },
    {
      "cell_type": "code",
      "source": [
        "# In ra thông tin về dữ liệu\n",
        "print(\"Total number of images:\", len(images))\n",
        "print(\"Label Dictionary:\", label_dict)\n",
        "# thiếu I, J, O, W, Q"
      ],
      "metadata": {
        "colab": {
          "base_uri": "https://localhost:8080/"
        },
        "id": "_OzXaTIyUmw3",
        "outputId": "e4d4342b-b1b3-4b0e-c88b-81126fc56908"
      },
      "execution_count": 11,
      "outputs": [
        {
          "output_type": "stream",
          "name": "stdout",
          "text": [
            "Total number of images: 3100\n",
            "Label Dictionary: {0: '0', 1: '1', 2: '2', 3: '3', 4: '4', 5: '5', 6: '6', 7: '7', 8: '8', 9: '9', 10: 'A', 11: 'B', 12: 'C', 13: 'D', 14: 'E', 15: 'F', 16: 'G', 17: 'H', 18: 'K', 19: 'L', 20: 'M', 21: 'N', 22: 'P', 23: 'R', 24: 'S', 25: 'T', 26: 'U', 27: 'V', 28: 'X', 29: 'Y', 30: 'Z'}\n"
          ]
        }
      ]
    },
    {
      "cell_type": "code",
      "source": [
        "import matplotlib.pyplot as plt\n",
        "\n",
        "image = images[0]\n",
        "label = labels[0]\n",
        "image_to_show = image.squeeze(0)\n",
        "plt.imshow(image_to_show)  # hoặc image[0]\n",
        "plt.show()\n",
        "\n",
        "# In ra nhãn\n",
        "print(\"Label:\", label_dict[label.item()])"
      ],
      "metadata": {
        "colab": {
          "base_uri": "https://localhost:8080/",
          "height": 447
        },
        "id": "--xCsR63zagy",
        "outputId": "0f588b51-612f-4b95-83b3-5e256b3e41d2"
      },
      "execution_count": 12,
      "outputs": [
        {
          "output_type": "display_data",
          "data": {
            "text/plain": [
              "<Figure size 640x480 with 1 Axes>"
            ],
            "image/png": "[encoded data removed]"
          },
          "metadata": {}
        },
        {
          "output_type": "stream",
          "name": "stdout",
          "text": [
            "Label: 0\n"
          ]
        }
      ]
    },
    {
      "cell_type": "code",
      "source": [
        "from sklearn.model_selection import train_test_split\n",
        "# Chia dữ liệu thành 80% train và 20% test\n",
        "X_train, X_test, y_train, y_test = train_test_split(images, labels, test_size=0.2, random_state=42)"
      ],
      "metadata": {
        "id": "IxmyCELXzc9u"
      },
      "execution_count": 13,
      "outputs": []
    },
    {
      "cell_type": "code",
      "source": [
        "# Chuyển đổi dữ liệu sang Tensor\n",
        "X_train_tensor = torch.tensor(X_train, dtype=torch.float32)\n",
        "X_test_tensor = torch.tensor(X_test, dtype=torch.float32)\n",
        "y_train_tensor = torch.tensor(y_train, dtype=torch.long)  # Nhãn kiểu long (int64)\n",
        "y_test_tensor = torch.tensor(y_test, dtype=torch.long)"
      ],
      "metadata": {
        "id": "5-0crYGB_Acd"
      },
      "execution_count": 14,
      "outputs": []
    },
    {
      "cell_type": "code",
      "source": [
        "from torch.utils.data import Dataset\n",
        "\n",
        "class CustomDataset(Dataset):\n",
        "    def __init__(self, images, labels):\n",
        "        self.images = images\n",
        "        self.labels = labels\n",
        "\n",
        "    def __len__(self):\n",
        "        return len(self.images)\n",
        "\n",
        "    def __getitem__(self, idx):\n",
        "        image = self.images[idx]\n",
        "        label = self.labels[idx]\n",
        "        return image, label"
      ],
      "metadata": {
        "id": "3gFaf6QT9tBM"
      },
      "execution_count": 15,
      "outputs": []
    },
    {
      "cell_type": "code",
      "source": [
        "from torch.utils.data import DataLoader\n",
        "\n",
        "# Tạo Dataset cho dữ liệu huấn luyện và kiểm tra\n",
        "train_dataset = CustomDataset(X_train_tensor, y_train_tensor)\n",
        "test_dataset = CustomDataset(X_test_tensor, y_test_tensor)\n",
        "\n",
        "# Tạo DataLoader cho dữ liệu huấn luyện và kiểm tra\n",
        "train_loader = DataLoader(train_dataset, batch_size=32, shuffle=True)\n",
        "test_loader = DataLoader(test_dataset, batch_size=32, shuffle=False)"
      ],
      "metadata": {
        "id": "XNOienno_FGN"
      },
      "execution_count": 16,
      "outputs": []
    },
    {
      "cell_type": "code",
      "source": [
        "import torch.nn.functional as F\n",
        "\n",
        "class TinyCNN(nn.Module):\n",
        "    def __init__(self, num_classes):\n",
        "        super(TinyCNN, self).__init__()\n",
        "        self.conv1 = nn.Conv2d(1, 16, 3, padding=1)\n",
        "        self.pool = nn.MaxPool2d(2, 2)\n",
        "        self.conv2 = nn.Conv2d(16, 32, 3, padding=1)\n",
        "        self.fc1 = nn.Linear(32 * 8 * 8, 64)\n",
        "        self.fc2 = nn.Linear(64, num_classes)\n",
        "\n",
        "    def forward(self, x):\n",
        "        x = self.pool(F.relu(self.conv1(x)))\n",
        "        x = self.pool(F.relu(self.conv2(x)))\n",
        "        x = x.view(-1, 32 * 8 * 8)\n",
        "        x = F.relu(self.fc1(x))\n",
        "        x = self.fc2(x)\n",
        "        return x"
      ],
      "metadata": {
        "id": "GPSyKgA9y_FD"
      },
      "execution_count": 17,
      "outputs": []
    },
    {
      "cell_type": "code",
      "source": [
        "num_classes = len(label_dict)\n",
        "model = TinyCNN(num_classes)\n",
        "\n",
        "criterion = nn.CrossEntropyLoss()\n",
        "optimizer = torch.optim.Adam(model.parameters(), lr=0.001)"
      ],
      "metadata": {
        "id": "Tl6c6ep0zESV"
      },
      "execution_count": 18,
      "outputs": []
    },
    {
      "cell_type": "code",
      "source": [
        "epochs = 10\n",
        "for epoch in range(epochs):\n",
        "        model.train()\n",
        "        running_loss = 0.0\n",
        "        correct = 0\n",
        "        total = 0\n",
        "\n",
        "        for images, labels in train_loader:\n",
        "            optimizer.zero_grad()\n",
        "            outputs = model(images)\n",
        "            loss = criterion(outputs, labels)\n",
        "            loss.backward()\n",
        "            optimizer.step()\n",
        "\n",
        "            running_loss += loss.item()\n",
        "            _, predicted = torch.max(outputs, 1)\n",
        "            correct += (predicted == labels).sum().item()\n",
        "            total += labels.size(0)\n",
        "\n",
        "        acc = 100 * correct / total\n",
        "        print(f'Epoch [{epoch+1}/{epochs}], Loss: {running_loss:.4f}, Accuracy: {acc:.2f}%')"
      ],
      "metadata": {
        "colab": {
          "base_uri": "https://localhost:8080/"
        },
        "id": "RKB2MLgg_XVx",
        "outputId": "38d5a1f1-0bd9-40e7-a6f0-5913f98c8531"
      },
      "execution_count": 19,
      "outputs": [
        {
          "output_type": "stream",
          "name": "stdout",
          "text": [
            "Epoch [1/10], Loss: 236.0607, Accuracy: 14.96%\n",
            "Epoch [2/10], Loss: 50.2200, Accuracy: 82.10%\n",
            "Epoch [3/10], Loss: 19.6772, Accuracy: 93.55%\n",
            "Epoch [4/10], Loss: 12.4243, Accuracy: 95.36%\n",
            "Epoch [5/10], Loss: 9.6490, Accuracy: 96.01%\n",
            "Epoch [6/10], Loss: 8.7886, Accuracy: 96.69%\n",
            "Epoch [7/10], Loss: 8.1684, Accuracy: 96.77%\n",
            "Epoch [8/10], Loss: 6.2313, Accuracy: 97.38%\n",
            "Epoch [9/10], Loss: 6.1782, Accuracy: 97.46%\n",
            "Epoch [10/10], Loss: 5.8836, Accuracy: 97.74%\n"
          ]
        }
      ]
    },
    {
      "cell_type": "code",
      "source": [
        "# Hàm tính độ chính xác trên tập validation hoặc test\n",
        "def evaluate_accuracy(model, data_loader):\n",
        "    model.eval()  # Chuyển mô hình về chế độ đánh giá (không cập nhật trọng số)\n",
        "    correct = 0\n",
        "    total = 0\n",
        "    with torch.no_grad():  # Tắt tính toán gradient để tiết kiệm bộ nhớ\n",
        "        for images, labels in data_loader:\n",
        "            outputs = model(images)\n",
        "            _, predicted = torch.max(outputs.data, 1)  # Dự đoán lớp có xác suất cao nhất\n",
        "            total += labels.size(0)\n",
        "            correct += (predicted == labels).sum().item()  # Tính số lượng đúng\n",
        "    accuracy = 100 * correct / total\n",
        "    return accuracy\n",
        "\n",
        "# Tính độ chính xác trên tập kiểm tra (test_loader)\n",
        "accuracy = evaluate_accuracy(model, test_loader)\n",
        "print(f'Accuracy on test set: {accuracy:.2f}%')"
      ],
      "metadata": {
        "colab": {
          "base_uri": "https://localhost:8080/"
        },
        "id": "wgvw6Kje_f0X",
        "outputId": "dafb1fce-1fc3-41d5-93d9-a07cd17e9b1f"
      },
      "execution_count": 20,
      "outputs": [
        {
          "output_type": "stream",
          "name": "stdout",
          "text": [
            "Accuracy on test set: 97.10%\n"
          ]
        }
      ]
    },
    {
      "cell_type": "code",
      "source": [
        "import time\n",
        "def predict_image(model, image):\n",
        "    model.eval()  # Chuyển mô hình về chế độ đánh giá\n",
        "    image = torch.tensor(image, dtype=torch.float32)  # Chuyển thành tensor\n",
        "    with torch.no_grad():  # Tắt gradient để tiết kiệm bộ nhớ\n",
        "        output = model(image)\n",
        "        _, predicted = torch.max(output, 1)  # Lấy lớp có xác suất cao nhất\n",
        "    return predicted.item()  # Trả về nhãn dự đoán\n",
        "\n",
        "\n",
        "path = \"/content/Screenshot 2025-04-06 142736.png\"\n",
        "start_time = time.time()\n",
        "img = preprocess_image(path)\n",
        "# Dự đoán cho ảnh đầu tiên trong batch\n",
        "predicted_label = predict_image(model, img)\n",
        "end_time = time.time()\n",
        "print(f\"Predicted time: {end_time-start_time}\")\n",
        "print(f'Predicted label: {label_dict[predicted_label]}')"
      ],
      "metadata": {
        "colab": {
          "base_uri": "https://localhost:8080/"
        },
        "id": "4HcZuLjKK4ny",
        "outputId": "584fa42a-c783-415e-a635-50975bbf18f9"
      },
      "execution_count": 25,
      "outputs": [
        {
          "output_type": "stream",
          "name": "stdout",
          "text": [
            "Predicted time: 0.0031402111053466797\n",
            "Predicted label: 5\n"
          ]
        }
      ]
    },
    {
      "cell_type": "markdown",
      "source": [
        "# Lưu mô hình"
      ],
      "metadata": {
        "id": "hnx38Y9CcA_s"
      }
    },
    {
      "cell_type": "code",
      "source": [
        "# Lưu toàn bộ mô hình (cấu trúc và trọng số)\n",
        "torch.save(model, \"tinycnn_full_model.pth\")\n",
        "\n",
        "# Để tải lại mô hình:\n",
        "model_load = torch.load(\"tinycnn_full_model.pth\", weights_only=False)\n",
        "model_load.eval()  # Đặt mô hình vào chế độ đánh giá"
      ],
      "metadata": {
        "colab": {
          "base_uri": "https://localhost:8080/"
        },
        "id": "nK0V1-ajevhU",
        "outputId": "8efc86d1-7fa7-466d-afff-7f746fdf33d9"
      },
      "execution_count": 27,
      "outputs": [
        {
          "output_type": "execute_result",
          "data": {
            "text/plain": [
              "TinyCNN(\n",
              "  (conv1): Conv2d(1, 16, kernel_size=(3, 3), stride=(1, 1), padding=(1, 1))\n",
              "  (pool): MaxPool2d(kernel_size=2, stride=2, padding=0, dilation=1, ceil_mode=False)\n",
              "  (conv2): Conv2d(16, 32, kernel_size=(3, 3), stride=(1, 1), padding=(1, 1))\n",
              "  (fc1): Linear(in_features=2048, out_features=64, bias=True)\n",
              "  (fc2): Linear(in_features=64, out_features=31, bias=True)\n",
              ")"
            ]
          },
          "metadata": {},
          "execution_count": 27
        }
      ]
    },
    {
      "cell_type": "code",
      "source": [
        "import time\n",
        "def predict_image(model, image):\n",
        "    model.eval()  # Chuyển mô hình về chế độ đánh giá\n",
        "    image = torch.tensor(image, dtype=torch.float32)  # Chuyển thành tensor\n",
        "    with torch.no_grad():  # Tắt gradient để tiết kiệm bộ nhớ\n",
        "        output = model(image)\n",
        "        _, predicted = torch.max(output, 1)  # Lấy lớp có xác suất cao nhất\n",
        "    return predicted.item()  # Trả về nhãn dự đoán\n",
        "\n",
        "\n",
        "path = \"/content/Screenshot 2025-04-06 142736.png\"\n",
        "start_time = time.time()\n",
        "img = preprocess_image(path)\n",
        "# Dự đoán cho ảnh đầu tiên trong batch\n",
        "predicted_label = predict_image(model_load, img)\n",
        "end_time = time.time()\n",
        "print(f\"Predicted time: {end_time-start_time}\")\n",
        "print(f'Predicted label: {label_dict[predicted_label]}')"
      ],
      "metadata": {
        "colab": {
          "base_uri": "https://localhost:8080/"
        },
        "id": "8i0B_DNKygTD",
        "outputId": "d2b6850f-c173-45d6-d214-32a60826e362"
      },
      "execution_count": 29,
      "outputs": [
        {
          "output_type": "stream",
          "name": "stdout",
          "text": [
            "Predicted time: 0.0052258968353271484\n",
            "Predicted label: 5\n"
          ]
        }
      ]
    },
    {
      "cell_type": "code",
      "source": [
        "from google.colab import files\n",
        "files.download('tinycnn_full_model.pth')"
      ],
      "metadata": {
        "colab": {
          "base_uri": "https://localhost:8080/",
          "height": 17
        },
        "id": "_7_c2MXTfDgq",
        "outputId": "37abba04-948f-484c-9ed1-6c090e1e88f6"
      },
      "execution_count": 30,
      "outputs": [
        {
          "output_type": "display_data",
          "data": {
            "text/plain": [
              "<IPython.core.display.Javascript object>"
            ],
            "application/javascript": [
              "\n",
              "    async function download(id, filename, size) {\n",
              "      if (!google.colab.kernel.accessAllowed) {\n",
              "        return;\n",
              "      }\n",
              "      const div = document.createElement('div');\n",
              "      const label = document.createElement('label');\n",
              "      label.textContent = `Downloading \"${filename}\": `;\n",
              "      div.appendChild(label);\n",
              "      const progress = document.createElement('progress');\n",
              "      progress.max = size;\n",
              "      div.appendChild(progress);\n",
              "      document.body.appendChild(div);\n",
              "\n",
              "      const buffers = [];\n",
              "      let downloaded = 0;\n",
              "\n",
              "      const channel = await google.colab.kernel.comms.open(id);\n",
              "      // Send a message to notify the kernel that we're ready.\n",
              "      channel.send({})\n",
              "\n",
              "      for await (const message of channel.messages) {\n",
              "        // Send a message to notify the kernel that we're ready.\n",
              "        channel.send({})\n",
              "        if (message.buffers) {\n",
              "          for (const buffer of message.buffers) {\n",
              "            buffers.push(buffer);\n",
              "            downloaded += buffer.byteLength;\n",
              "            progress.value = downloaded;\n",
              "          }\n",
              "        }\n",
              "      }\n",
              "      const blob = new Blob(buffers, {type: 'application/binary'});\n",
              "      const a = document.createElement('a');\n",
              "      a.href = window.URL.createObjectURL(blob);\n",
              "      a.download = filename;\n",
              "      div.appendChild(a);\n",
              "      a.click();\n",
              "      div.remove();\n",
              "    }\n",
              "  "
            ]
          },
          "metadata": {}
        },
        {
          "output_type": "display_data",
          "data": {
            "text/plain": [
              "<IPython.core.display.Javascript object>"
            ],
            "application/javascript": [
              "download(\"download_6aa9def5-c7e2-4c1e-9c44-5388c8445d12\", \"tinycnn_full_model.pth\", 556868)"
            ]
          },
          "metadata": {}
        }
      ]
    }
  ]
}