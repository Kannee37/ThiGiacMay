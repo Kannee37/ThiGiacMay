{
  "nbformat": 4,
  "nbformat_minor": 0,
  "metadata": {
    "colab": {
      "provenance": [],
      "toc_visible": true
    },
    "kernelspec": {
      "name": "python3",
      "display_name": "Python 3"
    },
    "language_info": {
      "name": "python"
    }
  },
  "cells": [
    {
      "cell_type": "code",
      "execution_count": 1,
      "metadata": {
        "colab": {
          "base_uri": "https://localhost:8080/"
        },
        "id": "8oOQRBZA09b8",
        "outputId": "faf7061a-c172-421c-ee25-e7d76e49d879"
      },
      "outputs": [
        {
          "output_type": "stream",
          "name": "stdout",
          "text": [
            "Mounted at /content/drive\n"
          ]
        }
      ],
      "source": [
        "from google.colab import drive\n",
        "drive.mount('/content/drive')"
      ]
    },
    {
      "cell_type": "code",
      "source": [
        "import os\n",
        "import cv2\n",
        "import numpy as np\n",
        "import tensorflow as tf\n",
        "from tensorflow.keras import layers, models\n",
        "from tensorflow.keras.preprocessing.image import ImageDataGenerator\n",
        "from google.colab.patches import cv2_imshow\n",
        "import matplotlib.pyplot as plt\n",
        "from tensorflow.keras.callbacks import History"
      ],
      "metadata": {
        "id": "EGlQSzPB1JmF"
      },
      "execution_count": 2,
      "outputs": []
    },
    {
      "cell_type": "code",
      "source": [],
      "metadata": {
        "id": "VNLRLrGDN9vA"
      },
      "execution_count": 2,
      "outputs": []
    },
    {
      "cell_type": "code",
      "source": [
        "data_dir = \"/content/drive/MyDrive/ThiGiacMay/btl/char_bien_so\""
      ],
      "metadata": {
        "id": "2FCq83X54EF5"
      },
      "execution_count": 3,
      "outputs": []
    },
    {
      "cell_type": "code",
      "source": [
        "# Hàm tiền xử lý ảnh: đổi ảnh thành grayscale và chuẩn hóa\n",
        "def preprocess_image(image_path):\n",
        "    img = cv2.imread(image_path, cv2.IMREAD_GRAYSCALE)\n",
        "    img = cv2.resize(img, (32, 32))  # Đổi kích thước ảnh\n",
        "    img = img / 255.0  # Chuẩn hóa giá trị pixel\n",
        "    return img"
      ],
      "metadata": {
        "id": "v_ZbiaF54Grq"
      },
      "execution_count": 4,
      "outputs": []
    },
    {
      "cell_type": "code",
      "source": [
        "path_test = \"/content/drive/MyDrive/ThiGiacMay/btl/char_bien_so/0/1345_2.jpg\"\n",
        "img_test = cv2.imread(path_test)\n",
        "cv2_imshow(img_test)"
      ],
      "metadata": {
        "colab": {
          "base_uri": "https://localhost:8080/",
          "height": 45
        },
        "id": "coBRnsk2CFyt",
        "outputId": "785fac8b-ce16-49cc-9d9c-45e52086738d"
      },
      "execution_count": 5,
      "outputs": [
        {
          "output_type": "display_data",
          "data": {
            "text/plain": [
              "<PIL.Image.Image image mode=RGB size=12x28>"
            ],
            "image/png": "[encoded data removed]",
            "image/jpeg": "[encoded data removed]"
          },
          "metadata": {}
        }
      ]
    },
    {
      "cell_type": "code",
      "source": [
        "te = preprocess_image(path_test)\n",
        "cv2_imshow(te)\n",
        "print(np.array(te))"
      ],
      "metadata": {
        "colab": {
          "base_uri": "https://localhost:8080/",
          "height": 170
        },
        "id": "jlWDbJB9dBzS",
        "outputId": "659067b4-20b9-46c3-e206-cc9a7ec4f1e2"
      },
      "execution_count": 6,
      "outputs": [
        {
          "output_type": "display_data",
          "data": {
            "text/plain": [
              "<PIL.Image.Image image mode=L size=32x32>"
            ],
            "image/png": "[encoded data removed]",
            "image/jpeg": "[encoded data removed]"
          },
          "metadata": {}
        },
        {
          "output_type": "stream",
          "name": "stdout",
          "text": [
            "[[0.00392157 0.01568627 0.08627451 ... 0.00392157 0.00784314 0.00784314]\n",
            " [0.1254902  0.13333333 0.19215686 ... 0.         0.         0.        ]\n",
            " [0.14117647 0.15294118 0.21176471 ... 0.00392157 0.00392157 0.00392157]\n",
            " ...\n",
            " [0.00392157 0.00392157 0.         ... 0.2745098  0.25098039 0.24705882]\n",
            " [0.         0.         0.         ... 0.19215686 0.14509804 0.1372549 ]\n",
            " [0.         0.         0.00784314 ... 0.05098039 0.00784314 0.        ]]\n"
          ]
        }
      ]
    },
    {
      "cell_type": "code",
      "source": [
        "# Hàm chuẩn bị dữ liệu\n",
        "def prepare_data(data_dir):\n",
        "    images = []\n",
        "    labels = []\n",
        "    label_dict = {}  # Lưu nhãn tương ứng với các thư mục\n",
        "    label_id = 0  # Khởi tạo nhãn bắt đầu từ 0\n",
        "\n",
        "    # Đọc ảnh từ các thư mục trong bộ dữ liệu\n",
        "    for folder in sorted(os.listdir(data_dir)):\n",
        "        folder_path = os.path.join(data_dir, folder)\n",
        "        if os.path.isdir(folder_path):\n",
        "            label_dict[label_id] = folder  # Gán nhãn cho từng thư mục\n",
        "            for image_name in os.listdir(folder_path):\n",
        "                image_path = os.path.join(folder_path, image_name)\n",
        "                img = preprocess_image(image_path)\n",
        "                images.append(img)\n",
        "                labels.append(label_id)\n",
        "            label_id += 1  # Tăng nhãn cho thư mục tiếp theo\n",
        "\n",
        "    # Chuyển danh sách ảnh và nhãn thành numpy arrays\n",
        "    images = np.array(images)\n",
        "    labels = np.array(labels)\n",
        "    return images, labels, label_dict"
      ],
      "metadata": {
        "id": "9elGotNl4IhJ"
      },
      "execution_count": 7,
      "outputs": []
    },
    {
      "cell_type": "code",
      "source": [
        "# Chuẩn bị dữ liệu\n",
        "images, labels, label_dict = prepare_data(data_dir)"
      ],
      "metadata": {
        "id": "Ut0r382K4OXG"
      },
      "execution_count": 8,
      "outputs": []
    },
    {
      "cell_type": "code",
      "source": [
        "# In ra thông tin về dữ liệu\n",
        "print(\"Total number of images:\", len(images))\n",
        "print(\"Label Dictionary:\", label_dict)"
      ],
      "metadata": {
        "colab": {
          "base_uri": "https://localhost:8080/"
        },
        "id": "d7sbkVHe4owZ",
        "outputId": "59a2253d-b6f0-40ac-dad2-8d35f6f883b5"
      },
      "execution_count": 9,
      "outputs": [
        {
          "output_type": "stream",
          "name": "stdout",
          "text": [
            "Total number of images: 3100\n",
            "Label Dictionary: {0: '0', 1: '1', 2: '2', 3: '3', 4: '4', 5: '5', 6: '6', 7: '7', 8: '8', 9: '9', 10: 'A', 11: 'B', 12: 'C', 13: 'D', 14: 'E', 15: 'F', 16: 'G', 17: 'H', 18: 'K', 19: 'L', 20: 'M', 21: 'N', 22: 'P', 23: 'R', 24: 'S', 25: 'T', 26: 'U', 27: 'V', 28: 'X', 29: 'Y', 30: 'Z'}\n"
          ]
        }
      ]
    },
    {
      "cell_type": "code",
      "source": [
        "cv2_imshow(images[0])\n",
        "print(label_dict[0][0])"
      ],
      "metadata": {
        "colab": {
          "base_uri": "https://localhost:8080/",
          "height": 66
        },
        "id": "b9zl3ofj5C7J",
        "outputId": "c0a06cfb-d0a9-457f-b599-5ef10ae61315"
      },
      "execution_count": 10,
      "outputs": [
        {
          "output_type": "display_data",
          "data": {
            "text/plain": [
              "<PIL.Image.Image image mode=L size=32x32>"
            ],
            "image/png": "[encoded data removed]",
            "image/jpeg": "[encoded data removed]"
          },
          "metadata": {}
        },
        {
          "output_type": "stream",
          "name": "stdout",
          "text": [
            "0\n"
          ]
        }
      ]
    },
    {
      "cell_type": "code",
      "source": [
        "import matplotlib.pyplot as plt\n",
        "\n",
        "image = images[0]\n",
        "label = labels[0]\n",
        "\n",
        "# Hiển thị ảnh bằng matplotlib để kiểm tra\n",
        "plt.imshow(image)  # Đảm bảo ảnh đúng màu\n",
        "plt.show()\n",
        "\n",
        "# In ra nhãn\n",
        "print(\"Label:\", image)"
      ],
      "metadata": {
        "colab": {
          "base_uri": "https://localhost:8080/",
          "height": 551
        },
        "id": "yAA0jZFHITR2",
        "outputId": "3f89d283-c18f-400a-f02c-aac77159757c"
      },
      "execution_count": 11,
      "outputs": [
        {
          "output_type": "display_data",
          "data": {
            "text/plain": [
              "<Figure size 640x480 with 1 Axes>"
            ],
            "image/png": "[encoded data removed]"
          },
          "metadata": {}
        },
        {
          "output_type": "stream",
          "name": "stdout",
          "text": [
            "Label: [[0.         0.         0.00392157 ... 0.00392157 0.         0.        ]\n",
            " [0.00392157 0.00392157 0.         ... 0.03921569 0.01176471 0.00784314]\n",
            " [0.         0.         0.         ... 0.04313725 0.00784314 0.00392157]\n",
            " ...\n",
            " [0.00392157 0.01568627 0.09019608 ... 0.00392157 0.         0.        ]\n",
            " [0.         0.         0.00392157 ... 0.         0.         0.        ]\n",
            " [0.         0.         0.         ... 0.00784314 0.00392157 0.00392157]]\n"
          ]
        }
      ]
    },
    {
      "cell_type": "code",
      "source": [
        "from sklearn.model_selection import train_test_split\n",
        "# Chia dữ liệu thành 80% train và 20% test\n",
        "X_train, X_test, y_train, y_test = train_test_split(images, labels, test_size=0.2, random_state=42)"
      ],
      "metadata": {
        "id": "HjdYw1wI4QGx"
      },
      "execution_count": 12,
      "outputs": []
    },
    {
      "cell_type": "code",
      "source": [
        "# from torch.utils.data import DataLoader, Dataset\n",
        "# # tạo dataloader\n",
        "# batch_size = 32\n",
        "# train_loader = DataLoader(X_train, y_train, batch_size=batch_size, shuffle=True)\n",
        "# test_loader = DataLoader(X_test, y_test, batch_size=batch_size, shuffle=False)"
      ],
      "metadata": {
        "id": "uNsbvqB58Rq0"
      },
      "execution_count": 13,
      "outputs": []
    },
    {
      "cell_type": "code",
      "source": [
        "# Kiểm tra số lượng nhãn trong tập huấn luyện (X_train) và kiểm tra (X_test)\n",
        "train_labels_count = np.unique(y_train, return_counts=True)\n",
        "test_labels_count = np.unique(y_test, return_counts=True)\n",
        "\n",
        "plt.figure(figsize=(10, 6))\n",
        "plt.bar(train_labels_count[0], train_labels_count[1], label='Train')\n",
        "plt.xlabel('Label')\n",
        "plt.ylabel('Count')\n",
        "plt.title('Label Distribution')\n",
        "plt.legend()\n",
        "plt.show()"
      ],
      "metadata": {
        "colab": {
          "base_uri": "https://localhost:8080/",
          "height": 564
        },
        "collapsed": true,
        "id": "CBH_DCr5M4Zb",
        "outputId": "bdc365af-08f6-4e62-f8b9-e16df1ad5a0d"
      },
      "execution_count": 14,
      "outputs": [
        {
          "output_type": "display_data",
          "data": {
            "text/plain": [
              "<Figure size 1000x600 with 1 Axes>"
            ],
            "image/png": "[encoded data removed]"
          },
          "metadata": {}
        }
      ]
    },
    {
      "cell_type": "code",
      "source": [
        "# Định nghĩa mô hình CNN\n",
        "model = models.Sequential([\n",
        "    layers.InputLayer(input_shape=(32, 32, 1)),  # Ảnh grayscale 32x32\n",
        "    layers.Conv2D(18, (3, 3), activation='relu'),\n",
        "    layers.MaxPooling2D((2, 2)),\n",
        "    layers.Conv2D(32, (3, 3), activation='relu'),\n",
        "    layers.MaxPooling2D((2, 2)),\n",
        "    layers.Flatten(),\n",
        "    layers.Dense(64, activation='relu'),\n",
        "    layers.Dense(len(label_dict), activation='softmax')  # Số lớp = số ký tự\n",
        "])"
      ],
      "metadata": {
        "id": "vuBil01t4aek",
        "colab": {
          "base_uri": "https://localhost:8080/"
        },
        "outputId": "5e931e3f-20eb-4c41-96aa-7e1034b76674"
      },
      "execution_count": 15,
      "outputs": [
        {
          "output_type": "stream",
          "name": "stderr",
          "text": [
            "/usr/local/lib/python3.11/dist-packages/keras/src/layers/core/input_layer.py:27: UserWarning: Argument `input_shape` is deprecated. Use `shape` instead.\n",
            "  warnings.warn(\n"
          ]
        }
      ]
    },
    {
      "cell_type": "code",
      "source": [
        "# Biên dịch mô hình\n",
        "model.compile(optimizer='adam', loss='sparse_categorical_crossentropy', metrics=['accuracy'])"
      ],
      "metadata": {
        "id": "YdcoIon74bA5"
      },
      "execution_count": 16,
      "outputs": []
    },
    {
      "cell_type": "code",
      "source": [
        "# Huấn luyện mô hình\n",
        "history = model.fit(X_train, y_train, epochs=10, batch_size=32)"
      ],
      "metadata": {
        "colab": {
          "base_uri": "https://localhost:8080/"
        },
        "id": "6QTn38RW4c4m",
        "outputId": "78799b2d-15cf-48e8-a1fc-6fca99c9b9c4"
      },
      "execution_count": 17,
      "outputs": [
        {
          "output_type": "stream",
          "name": "stdout",
          "text": [
            "Epoch 1/10\n",
            "\u001b[1m78/78\u001b[0m \u001b[32m━━━━━━━━━━━━━━━━━━━━\u001b[0m\u001b[37m\u001b[0m \u001b[1m3s\u001b[0m 21ms/step - accuracy: 0.1308 - loss: 3.2059\n",
            "Epoch 2/10\n",
            "\u001b[1m78/78\u001b[0m \u001b[32m━━━━━━━━━━━━━━━━━━━━\u001b[0m\u001b[37m\u001b[0m \u001b[1m3s\u001b[0m 36ms/step - accuracy: 0.8210 - loss: 0.6211\n",
            "Epoch 3/10\n",
            "\u001b[1m78/78\u001b[0m \u001b[32m━━━━━━━━━━━━━━━━━━━━\u001b[0m\u001b[37m\u001b[0m \u001b[1m3s\u001b[0m 32ms/step - accuracy: 0.9129 - loss: 0.2844\n",
            "Epoch 4/10\n",
            "\u001b[1m78/78\u001b[0m \u001b[32m━━━━━━━━━━━━━━━━━━━━\u001b[0m\u001b[37m\u001b[0m \u001b[1m2s\u001b[0m 20ms/step - accuracy: 0.9509 - loss: 0.1796\n",
            "Epoch 5/10\n",
            "\u001b[1m78/78\u001b[0m \u001b[32m━━━━━━━━━━━━━━━━━━━━\u001b[0m\u001b[37m\u001b[0m \u001b[1m3s\u001b[0m 21ms/step - accuracy: 0.9595 - loss: 0.1355\n",
            "Epoch 6/10\n",
            "\u001b[1m78/78\u001b[0m \u001b[32m━━━━━━━━━━━━━━━━━━━━\u001b[0m\u001b[37m\u001b[0m \u001b[1m3s\u001b[0m 21ms/step - accuracy: 0.9569 - loss: 0.1390\n",
            "Epoch 7/10\n",
            "\u001b[1m78/78\u001b[0m \u001b[32m━━━━━━━━━━━━━━━━━━━━\u001b[0m\u001b[37m\u001b[0m \u001b[1m3s\u001b[0m 21ms/step - accuracy: 0.9657 - loss: 0.1295\n",
            "Epoch 8/10\n",
            "\u001b[1m78/78\u001b[0m \u001b[32m━━━━━━━━━━━━━━━━━━━━\u001b[0m\u001b[37m\u001b[0m \u001b[1m4s\u001b[0m 36ms/step - accuracy: 0.9692 - loss: 0.0911\n",
            "Epoch 9/10\n",
            "\u001b[1m78/78\u001b[0m \u001b[32m━━━━━━━━━━━━━━━━━━━━\u001b[0m\u001b[37m\u001b[0m \u001b[1m4s\u001b[0m 21ms/step - accuracy: 0.9743 - loss: 0.0825\n",
            "Epoch 10/10\n",
            "\u001b[1m78/78\u001b[0m \u001b[32m━━━━━━━━━━━━━━━━━━━━\u001b[0m\u001b[37m\u001b[0m \u001b[1m3s\u001b[0m 21ms/step - accuracy: 0.9748 - loss: 0.0737\n"
          ]
        }
      ]
    },
    {
      "cell_type": "code",
      "source": [
        "# Đánh giá mô hình\n",
        "test_loss, test_acc = model.evaluate(X_test, y_test)\n",
        "print(f\"Test accuracy: {test_acc * 100:.2f}%\")"
      ],
      "metadata": {
        "colab": {
          "base_uri": "https://localhost:8080/"
        },
        "id": "9D5JR1Xr4fld",
        "outputId": "1ebb8fd5-6fd5-4cff-d508-e3db269719f8"
      },
      "execution_count": 18,
      "outputs": [
        {
          "output_type": "stream",
          "name": "stdout",
          "text": [
            "\u001b[1m20/20\u001b[0m \u001b[32m━━━━━━━━━━━━━━━━━━━━\u001b[0m\u001b[37m\u001b[0m \u001b[1m0s\u001b[0m 8ms/step - accuracy: 0.9654 - loss: 0.1741\n",
            "Test accuracy: 95.97%\n"
          ]
        }
      ]
    },
    {
      "cell_type": "code",
      "source": [
        "# Lưu mô hình\n",
        "model.save('license_plate_recognition_model.h5')"
      ],
      "metadata": {
        "id": "xaZwBLUs4gwy",
        "colab": {
          "base_uri": "https://localhost:8080/"
        },
        "outputId": "d6f9be0a-85ae-4b58-98e3-bda7d73ce0f6"
      },
      "execution_count": 19,
      "outputs": [
        {
          "output_type": "stream",
          "name": "stderr",
          "text": [
            "WARNING:absl:You are saving your model as an HDF5 file via `model.save()` or `keras.saving.save_model(model)`. This file format is considered legacy. We recommend using instead the native Keras format, e.g. `model.save('my_model.keras')` or `keras.saving.save_model(model, 'my_model.keras')`. \n"
          ]
        }
      ]
    },
    {
      "cell_type": "code",
      "source": [
        "from google.colab import files\n",
        "files.download('license_plate_recognition_model.h5')"
      ],
      "metadata": {
        "colab": {
          "base_uri": "https://localhost:8080/",
          "height": 17
        },
        "id": "wu-p-Zuyngua",
        "outputId": "e20200ed-1f2d-4179-d6c8-c98d8a24d669"
      },
      "execution_count": 20,
      "outputs": [
        {
          "output_type": "display_data",
          "data": {
            "text/plain": [
              "<IPython.core.display.Javascript object>"
            ],
            "application/javascript": [
              "\n",
              "    async function download(id, filename, size) {\n",
              "      if (!google.colab.kernel.accessAllowed) {\n",
              "        return;\n",
              "      }\n",
              "      const div = document.createElement('div');\n",
              "      const label = document.createElement('label');\n",
              "      label.textContent = `Downloading \"${filename}\": `;\n",
              "      div.appendChild(label);\n",
              "      const progress = document.createElement('progress');\n",
              "      progress.max = size;\n",
              "      div.appendChild(progress);\n",
              "      document.body.appendChild(div);\n",
              "\n",
              "      const buffers = [];\n",
              "      let downloaded = 0;\n",
              "\n",
              "      const channel = await google.colab.kernel.comms.open(id);\n",
              "      // Send a message to notify the kernel that we're ready.\n",
              "      channel.send({})\n",
              "\n",
              "      for await (const message of channel.messages) {\n",
              "        // Send a message to notify the kernel that we're ready.\n",
              "        channel.send({})\n",
              "        if (message.buffers) {\n",
              "          for (const buffer of message.buffers) {\n",
              "            buffers.push(buffer);\n",
              "            downloaded += buffer.byteLength;\n",
              "            progress.value = downloaded;\n",
              "          }\n",
              "        }\n",
              "      }\n",
              "      const blob = new Blob(buffers, {type: 'application/binary'});\n",
              "      const a = document.createElement('a');\n",
              "      a.href = window.URL.createObjectURL(blob);\n",
              "      a.download = filename;\n",
              "      div.appendChild(a);\n",
              "      a.click();\n",
              "      div.remove();\n",
              "    }\n",
              "  "
            ]
          },
          "metadata": {}
        },
        {
          "output_type": "display_data",
          "data": {
            "text/plain": [
              "<IPython.core.display.Javascript object>"
            ],
            "application/javascript": [
              "download(\"download_51ef63bd-e3f6-4cd8-912e-c4450c87c1cb\", \"license_plate_recognition_model.h5\", 1014208)"
            ]
          },
          "metadata": {}
        }
      ]
    },
    {
      "cell_type": "code",
      "source": [
        "import time\n",
        "\n",
        "# Dự đoán từ ảnh mới\n",
        "def predict_from_image(image_path):\n",
        "    img = preprocess_image(image_path)\n",
        "    img = np.expand_dims(img, axis=0)  # Thêm chiều batch\n",
        "    img = np.expand_dims(img, axis=-1)  # Thêm chiều kênh (1 cho ảnh grayscale)\n",
        "\n",
        "    prediction = model.predict(img)\n",
        "    predicted_label = np.argmax(prediction, axis=1)[0]  # Dự đoán nhãn\n",
        "    return label_dict[predicted_label]  # Trả về ký tự dự đoán\n",
        "\n",
        "# Ví dụ sử dụng dự đoán\n",
        "image_path = \"/content/Screenshot 2025-04-06 142736.png\"\n",
        "start_time = time.time()\n",
        "predicted_char = predict_from_image(image_path)\n",
        "end_time = time.time()\n",
        "print(f'time for predict: {end_time - start_time}')\n",
        "print(f\"Predicted Character: {predicted_char}\")"
      ],
      "metadata": {
        "colab": {
          "base_uri": "https://localhost:8080/"
        },
        "id": "Wq2zGwHBLR_4",
        "outputId": "6d7b00e6-be83-4175-c54c-24b7192d3bf1"
      },
      "execution_count": 22,
      "outputs": [
        {
          "output_type": "stream",
          "name": "stdout",
          "text": [
            "\u001b[1m1/1\u001b[0m \u001b[32m━━━━━━━━━━━━━━━━━━━━\u001b[0m\u001b[37m\u001b[0m \u001b[1m0s\u001b[0m 85ms/step\n",
            "time for predict: 0.20066094398498535\n",
            "Predicted Character: 5\n"
          ]
        }
      ]
    },
    {
      "cell_type": "markdown",
      "source": [
        "# Finetune\n"
      ],
      "metadata": {
        "id": "5KoiY_jO0_H6"
      }
    },
    {
      "cell_type": "code",
      "source": [],
      "metadata": {
        "id": "1L28LfdObaLz"
      },
      "execution_count": null,
      "outputs": []
    }
  ]
}